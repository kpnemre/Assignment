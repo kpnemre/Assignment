{
 "metadata": {
  "language_info": {
   "codemirror_mode": {
    "name": "ipython",
    "version": 3
   },
   "file_extension": ".py",
   "mimetype": "text/x-python",
   "name": "python",
   "nbconvert_exporter": "python",
   "pygments_lexer": "ipython3",
   "version": "3.7.1-final"
  },
  "orig_nbformat": 2,
  "kernelspec": {
   "name": "python37164bit6b724ec6ebbb4c41b13f089b692314e2",
   "display_name": "Python 3.7.1 64-bit"
  }
 },
 "nbformat": 4,
 "nbformat_minor": 2,
 "cells": [
  {
   "cell_type": "code",
   "execution_count": 56,
   "metadata": {},
   "outputs": [],
   "source": [
    "# Number to roman number\n",
    "\n",
    "def NumberToRoman(number):\n",
    "\tnum = [1, 4, 5, 9, 10, 40, 50, 90, \n",
    "\t\t100, 400, 500, 900, 1000]\n",
    "\n",
    "\tsym = [\"I\", \"IV\", \"V\", \"IX\", \"X\", \"XL\", \n",
    "\t\t\"L\", \"XC\", \"C\", \"CD\", \"D\", \"CM\", \"M\"]\n",
    "\n",
    "\ti = 12\n",
    "\n",
    "\twhile number:\n",
    "\t\tdiv = number // num[i]\n",
    "\t\tnumber %= num[i]\n",
    "\n",
    "\t\twhile div:\n",
    "\t\t\tprint(sym[i], end = \"\")\n",
    "\t\t\tdiv -= 1\n",
    "\t\ti -= 1\n",
    "\n",
    "\n",
    "\n"
   ]
  },
  {
   "cell_type": "code",
   "execution_count": 60,
   "metadata": {},
   "outputs": [
    {
     "output_type": "execute_result",
     "data": {
      "text/plain": [
       "2076"
      ]
     },
     "metadata": {},
     "execution_count": 60
    }
   ],
   "source": [
    "\n",
    "# roman numerial  to number convert\n",
    "num = [1, 4, 5, 9, 10, 40, 50, 90, 100, 400, 500, 900, 1000]\n",
    "sym = [\"I\", \"IV\", \"V\", \"IX\", \"X\", \"XL\", \"L\", \"XC\", \"C\", \"CD\", \"D\", \"CM\", \"M\"]\n",
    "\n",
    "def get_key(val): \n",
    "    for key, value in new_dict.items(): \n",
    "         if val == value: \n",
    "             return key \n",
    "  \n",
    "def RomanToNumber(roman):\n",
    "    \n",
    "    a=0\n",
    "    new_dict = dict(zip(num,sym))\n",
    "\n",
    "    list_roman = list(roman)\n",
    "    # return list_roman\n",
    "    for i in range(0,len(list_roman)):\n",
    "        a += get_key(list_roman[i])\n",
    "    return a\n",
    "   \n",
    "\n",
    "\n",
    "\n",
    "# Driver code\n",
    "roman= input('enter a number')\n",
    "roman = roman.upper()\n",
    "RomanToNumber(roman)"
   ]
  },
  {
   "cell_type": "code",
   "execution_count": 50,
   "metadata": {},
   "outputs": [
    {
     "output_type": "stream",
     "name": "stdout",
     "text": [
      "1000\n"
     ]
    }
   ],
   "source": [
    "#  Combine two list with a dictionary\n",
    " def get_key(val): \n",
    "    for key, value in new_dict.items(): \n",
    "         if val == value: \n",
    "             return key \n",
    "  \n",
    "    return \"key doesn't exist\"\n",
    "\n",
    "num = [1, 4, 5, 9, 10, 40, 50, 90, 100, 400, 500, 900, 1000]\n",
    "sym = [\"I\", \"IV\", \"V\", \"IX\", \"X\", \"XL\", \"L\", \"XC\", \"C\", \"CD\", \"D\", \"CM\", \"M\"]\n",
    "\n",
    "new_dict = dict(zip(num,sym))\n",
    "\n"
   ]
  },
  {
   "cell_type": "code",
   "execution_count": null,
   "metadata": {},
   "outputs": [],
   "source": []
  }
 ]
}