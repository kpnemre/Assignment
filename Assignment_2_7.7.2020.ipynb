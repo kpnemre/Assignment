{
 "cells": [
  {
   "cell_type": "code",
   "execution_count": 14,
   "metadata": {
    "tags": []
   },
   "outputs": [
    {
     "output_type": "stream",
     "name": "stdout",
     "text": "You are not in risky group\n"
    }
   ],
   "source": [
    "#Answer the question yes or no \n",
    "age = input(\"Are you a cigarette addict older than 75 years old? :\").title()==\"Yes\" \n",
    "chronic = input(\"Do you have a severe chronic disease?\").title()==\"Yes\"\n",
    "immune = input(\"Is your immune system too weak?\").title()==\"Yes\"\n",
    "\n",
    "if age or chronic or immune == \"Yes\":\n",
    "    print(\"You are in risky group\") \n",
    "else:\n",
    "    print(\"You are not in risky group\")"
   ]
  },
  {
   "cell_type": "code",
   "execution_count": null,
   "metadata": {},
   "outputs": [],
   "source": []
  }
 ],
 "metadata": {
  "language_info": {
   "codemirror_mode": {
    "name": "ipython",
    "version": 3
   },
   "file_extension": ".py",
   "mimetype": "text/x-python",
   "name": "python",
   "nbconvert_exporter": "python",
   "pygments_lexer": "ipython3",
   "version": 3
  },
  "orig_nbformat": 2,
  "kernelspec": {
   "name": "python_defaultSpec_1594144403847",
   "display_name": "Python 3.7.1 64-bit"
  }
 },
 "nbformat": 4,
 "nbformat_minor": 2
}