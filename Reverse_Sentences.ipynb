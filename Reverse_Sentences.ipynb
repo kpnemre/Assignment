{
 "metadata": {
  "language_info": {
   "codemirror_mode": {
    "name": "ipython",
    "version": 3
   },
   "file_extension": ".py",
   "mimetype": "text/x-python",
   "name": "python",
   "nbconvert_exporter": "python",
   "pygments_lexer": "ipython3",
   "version": "3.7.1-final"
  },
  "orig_nbformat": 2,
  "kernelspec": {
   "name": "Python 3.7.1 64-bit",
   "display_name": "Python 3.7.1 64-bit",
   "metadata": {
    "interpreter": {
     "hash": "a31f2cdedd37f104e32c14b29a732b917ad0127035c41de45ebc5477597a7f53"
    }
   }
  }
 },
 "nbformat": 4,
 "nbformat_minor": 2,
 "cells": [
  {
   "cell_type": "code",
   "execution_count": 3,
   "metadata": {},
   "outputs": [
    {
     "output_type": "stream",
     "name": "stdout",
     "text": [
      "Don't reverse single words\n\n"
     ]
    }
   ],
   "source": [
    "# --- Reverse a given sentence-------\n",
    "user_input = input('enter your sentence')\n",
    "# print(user_input)\n",
    "list_input = user_input.split(' ')\n",
    "list_output =[]\n",
    "if len(list_input)<2:\n",
    "    print(\"Don't reverse single words\")\n",
    "else:\n",
    "    for i in range (0,len(list_input)):\n",
    "        list_output.append(list_input[0-(i+1)])\n",
    "print(' '.join(list_output))"
   ]
  },
  {
   "cell_type": "code",
   "execution_count": 1,
   "metadata": {},
   "outputs": [
    {
     "output_type": "stream",
     "name": "stdout",
     "text": [
      "bak iyi kendine\n"
     ]
    }
   ],
   "source": [
    "# --- Reverse a given sentence with reverse ()-------\n",
    "\n",
    "user_input = input('enter your sentence')\n",
    "# print(user_input)\n",
    "list_input = user_input.split(' ')\n",
    "list_output =reversed(list_input)\n",
    "print(' '.join(list_output))"
   ]
  },
  {
   "cell_type": "code",
   "execution_count": null,
   "metadata": {},
   "outputs": [],
   "source": []
  }
 ]
}