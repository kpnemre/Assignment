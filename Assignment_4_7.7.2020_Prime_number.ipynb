{
 "cells": [
  {
   "cell_type": "code",
   "execution_count": 28,
   "metadata": {
    "tags": []
   },
   "outputs": [
    {
     "output_type": "stream",
     "name": "stdout",
     "text": "input  →  17  ⇉  output :  17  is  a prime number \n[]\n"
    }
   ],
   "source": [
    "# Prime Number\n",
    "number = int(input(\"Enter a number please : \"))\n",
    "alist = []\n",
    "for i in range(2,number):\n",
    "    while number % i ==0:\n",
    "        alist.append(i)\n",
    "        break\n",
    "if alist == []:\n",
    "    print(\"input\",\" → \",  number, \" ⇉ \", \"output : \", number,\" is  a prime number \")\n",
    "else:\n",
    "    print(\"input\",\" → \",  number, \" ⇉ \", \"output : \", number,\" is not a prime number \")\n",
    "\n",
    "   "
   ]
  },
  {
   "cell_type": "code",
   "execution_count": null,
   "metadata": {},
   "outputs": [],
   "source": []
  }
 ],
 "metadata": {
  "language_info": {
   "codemirror_mode": {
    "name": "ipython",
    "version": 3
   },
   "file_extension": ".py",
   "mimetype": "text/x-python",
   "name": "python",
   "nbconvert_exporter": "python",
   "pygments_lexer": "ipython3",
   "version": 3
  },
  "orig_nbformat": 2,
  "kernelspec": {
   "name": "python_defaultSpec_1594570766607",
   "display_name": "Python 3.7.1 64-bit"
  }
 },
 "nbformat": 4,
 "nbformat_minor": 2
}