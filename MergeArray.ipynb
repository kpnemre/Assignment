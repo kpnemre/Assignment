{
 "metadata": {
  "language_info": {
   "codemirror_mode": {
    "name": "ipython",
    "version": 3
   },
   "file_extension": ".py",
   "mimetype": "text/x-python",
   "name": "python",
   "nbconvert_exporter": "python",
   "pygments_lexer": "ipython3",
   "version": "3.7.1-final"
  },
  "orig_nbformat": 2,
  "kernelspec": {
   "name": "Python 3.7.1 64-bit",
   "display_name": "Python 3.7.1 64-bit",
   "metadata": {
    "interpreter": {
     "hash": "a31f2cdedd37f104e32c14b29a732b917ad0127035c41de45ebc5477597a7f53"
    }
   }
  }
 },
 "nbformat": 4,
 "nbformat_minor": 2,
 "cells": [
  {
   "cell_type": "code",
   "execution_count": 27,
   "metadata": {},
   "outputs": [
    {
     "output_type": "stream",
     "name": "stdout",
     "text": [
      "['1', '2']\n['']\n"
     ]
    },
    {
     "output_type": "execute_result",
     "data": {
      "text/plain": [
       "['1', '2']"
      ]
     },
     "metadata": {},
     "execution_count": 27
    }
   ],
   "source": [
    "def mergeArray (a,b):\n",
    "    if a and b== ['']: #both of them are empty\n",
    "        return a\n",
    "    elif a == [''] and b!=['']: # first one is empty\n",
    "        return b\n",
    "    elif b == [''] and a!=['']: #second one is empty\n",
    "        return a  \n",
    "    else:                       #none of them are empty\n",
    "        (a+b).sort()\n",
    "        return (a+b)\n",
    "\n",
    "input_1= input('enter integer with space')\n",
    "input_2= input('enter secaond integer with space')\n",
    "\n",
    "Array_a= input_1.split(' ')\n",
    "Array_b= input_2.split(' ')\n",
    "print(Array_a)\n",
    "print(Array_b)\n",
    "\n",
    "\n",
    "mergeArray (Array_a,Array_b)\n"
   ]
  },
  {
   "cell_type": "code",
   "execution_count": null,
   "metadata": {},
   "outputs": [],
   "source": []
  }
 ]
}