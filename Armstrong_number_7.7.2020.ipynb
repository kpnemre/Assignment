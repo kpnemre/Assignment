{
 "cells": [
  {
   "cell_type": "code",
   "execution_count": 24,
   "metadata": {
    "tags": []
   },
   "outputs": [
    {
     "output_type": "stream",
     "name": "stdout",
     "text": "It is an invalid entry. Don't use non-numeric, float, or negative values!\nIt is an invalid entry. Don't use non-numeric, float, or negative values!\nIt is an invalid entry. Don't use non-numeric, float, or negative values!\nIt is an invalid entry. Don't use non-numeric, float, or negative values!\n371 is an Armstrong number\n"
    }
   ],
   "source": [
    "number= input(\"Enter a number: \") \n",
    "len_number = len(number)\n",
    "c=0 # c is a result of mathematical operation like 3^3, 4^7\n",
    "total=0 # total means sum of c values\n",
    "while not number.isnumeric(): # if given number is not numeric \n",
    "    print( \"It is an invalid entry. Don't use non-numeric, float, or negative values!\")\n",
    "    number= input(\"Enter a numeric number please: \")\n",
    "for i in number:\n",
    "    c= int(i)**len_number\n",
    "    total +=c\n",
    "if total == int(number):\n",
    "    print(f\"{number} is an Armstrong number\")\n",
    "else:\n",
    "    print(f\"{number} is not Armstrong number\")"
   ]
  },
  {
   "cell_type": "code",
   "execution_count": null,
   "metadata": {},
   "outputs": [],
   "source": []
  }
 ],
 "metadata": {
  "language_info": {
   "codemirror_mode": {
    "name": "ipython",
    "version": 3
   },
   "file_extension": ".py",
   "mimetype": "text/x-python",
   "name": "python",
   "nbconvert_exporter": "python",
   "pygments_lexer": "ipython3",
   "version": 3
  },
  "orig_nbformat": 2,
  "kernelspec": {
   "name": "python_defaultSpec_1594292066296",
   "display_name": "Python 3.7.1 64-bit"
  }
 },
 "nbformat": 4,
 "nbformat_minor": 2
}